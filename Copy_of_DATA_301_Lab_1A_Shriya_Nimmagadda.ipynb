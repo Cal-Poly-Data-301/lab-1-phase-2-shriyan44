{
  "nbformat": 4,
  "nbformat_minor": 0,
  "metadata": {
    "kernelspec": {
      "display_name": "Python 3",
      "language": "python",
      "name": "python3"
    },
    "language_info": {
      "codemirror_mode": {
        "name": "ipython",
        "version": 3
      },
      "file_extension": ".py",
      "mimetype": "text/x-python",
      "name": "python",
      "nbconvert_exporter": "python",
      "pygments_lexer": "ipython3",
      "version": "3.6.4"
    },
    "colab": {
      "name": "Copy of DATA 301 Lab 1A - Shriya Nimmagadda",
      "provenance": [],
      "collapsed_sections": [],
      "include_colab_link": true
    }
  },
  "cells": [
    {
      "cell_type": "markdown",
      "metadata": {
        "id": "view-in-github",
        "colab_type": "text"
      },
      "source": [
        "<a href=\"https://colab.research.google.com/github/shriyan44/lab-1-phase-2-shriyan44/blob/main/Copy_of_DATA_301_Lab_1A_Shriya_Nimmagadda.ipynb\" target=\"_parent\"><img src=\"https://colab.research.google.com/assets/colab-badge.svg\" alt=\"Open In Colab\"/></a>"
      ]
    },
    {
      "cell_type": "markdown",
      "metadata": {
        "id": "fQLu8g7NkVNI"
      },
      "source": [
        "# The Distribution of First Digits\n",
        "\n",
        "In this lab, you will explore the distribution of first digits in real data. For example, the first digits of the numbers 52, 30.8, and 0.07 are 5, 3, and 7 respectively. In this lab, you will investigate the question: how frequently does each digit 1-9 appear as the first digit of the number?"
      ]
    },
    {
      "cell_type": "markdown",
      "metadata": {
        "id": "X4RaiSB8kVNJ"
      },
      "source": [
        "## Question 0\n",
        "\n",
        "Make a prediction. \n",
        "\n",
        "1. Approximately what percentage of the values do you think will have a _first_ digit of 1? What percentage of the values do you think will have a first digit of 9?\n",
        "2. Approximately what percentage of the values do you think will have a _last_ digit of 1? What percentage of the values do you think will have a last digit of 9?\n",
        "\n",
        "(Don't worry about being wrong. You will earn full credit for any justified answer.)"
      ]
    },
    {
      "cell_type": "markdown",
      "metadata": {
        "id": "WlxSEeCxkVNK"
      },
      "source": [
        "I think the probability of 1 being the first number or 9 being the first number is both 11%, so around 11% of the values would have those numbers. I also think the probability of 1 being the last number or 9 being the last number is both 11%, so around 11% of the values would have those numbers. I don't know much about this stock index data set but it seems like stocks can be worth any price so each number out of 9 digits has an equal shot of appearing.  "
      ]
    },
    {
      "cell_type": "markdown",
      "metadata": {
        "id": "IKpeJAfokVNL"
      },
      "source": [
        "## Question 1\n",
        "\n",
        "The [S&P 500](https://en.wikipedia.org/wiki/S%26P_500_Index) is a stock index based on the market capitalizations of large companies that are publicly traded on the NYSE or NASDAQ. The CSV file (https://dlsun.github.io/pods/data/sp500.csv) contains data from February 1, 2018 about the stocks that comprise the S&P 500. We will investigate the first digit distributions of the variables in this data set.\n",
        "\n",
        "Read in the S&P 500 data. What is the unit of observation in this data set? Is there a variable that is natural to use as the index? If so, set that variable to be the index. Once you are done, display the `DataFrame`."
      ]
    },
    {
      "cell_type": "code",
      "metadata": {
        "id": "LxNsWuUNkVNM",
        "colab": {
          "base_uri": "https://localhost:8080/",
          "height": 237
        },
        "outputId": "d6657c69-1470-4e12-df49-428103c8a17b"
      },
      "source": [
        "import pandas as pd\n",
        "\n",
        "data_dir = \"http://dlsun.github.io/pods/data/\"\n",
        "df_sp = pd.read_csv(data_dir + \"sp500.csv\")\n",
        "df_sp = df_sp.set_index(\"Name\")\n",
        "df_sp.head()\n",
        "\n"
      ],
      "execution_count": 2,
      "outputs": [
        {
          "output_type": "execute_result",
          "data": {
            "text/html": [
              "\n",
              "  <div id=\"df-89508a17-fff1-480f-a32e-fee3ea83ee0d\">\n",
              "    <div class=\"colab-df-container\">\n",
              "      <div>\n",
              "<style scoped>\n",
              "    .dataframe tbody tr th:only-of-type {\n",
              "        vertical-align: middle;\n",
              "    }\n",
              "\n",
              "    .dataframe tbody tr th {\n",
              "        vertical-align: top;\n",
              "    }\n",
              "\n",
              "    .dataframe thead th {\n",
              "        text-align: right;\n",
              "    }\n",
              "</style>\n",
              "<table border=\"1\" class=\"dataframe\">\n",
              "  <thead>\n",
              "    <tr style=\"text-align: right;\">\n",
              "      <th></th>\n",
              "      <th>date</th>\n",
              "      <th>open</th>\n",
              "      <th>close</th>\n",
              "      <th>volume</th>\n",
              "    </tr>\n",
              "    <tr>\n",
              "      <th>Name</th>\n",
              "      <th></th>\n",
              "      <th></th>\n",
              "      <th></th>\n",
              "      <th></th>\n",
              "    </tr>\n",
              "  </thead>\n",
              "  <tbody>\n",
              "    <tr>\n",
              "      <th>AAL</th>\n",
              "      <td>2018-02-01</td>\n",
              "      <td>$54.00</td>\n",
              "      <td>$53.88</td>\n",
              "      <td>3623078</td>\n",
              "    </tr>\n",
              "    <tr>\n",
              "      <th>AAPL</th>\n",
              "      <td>2018-02-01</td>\n",
              "      <td>$167.16</td>\n",
              "      <td>$167.78</td>\n",
              "      <td>47230787</td>\n",
              "    </tr>\n",
              "    <tr>\n",
              "      <th>AAP</th>\n",
              "      <td>2018-02-01</td>\n",
              "      <td>$116.24</td>\n",
              "      <td>$117.29</td>\n",
              "      <td>760629</td>\n",
              "    </tr>\n",
              "    <tr>\n",
              "      <th>ABBV</th>\n",
              "      <td>2018-02-01</td>\n",
              "      <td>$112.24</td>\n",
              "      <td>$116.34</td>\n",
              "      <td>9943452</td>\n",
              "    </tr>\n",
              "    <tr>\n",
              "      <th>ABC</th>\n",
              "      <td>2018-02-01</td>\n",
              "      <td>$97.74</td>\n",
              "      <td>$99.29</td>\n",
              "      <td>2786798</td>\n",
              "    </tr>\n",
              "  </tbody>\n",
              "</table>\n",
              "</div>\n",
              "      <button class=\"colab-df-convert\" onclick=\"convertToInteractive('df-89508a17-fff1-480f-a32e-fee3ea83ee0d')\"\n",
              "              title=\"Convert this dataframe to an interactive table.\"\n",
              "              style=\"display:none;\">\n",
              "        \n",
              "  <svg xmlns=\"http://www.w3.org/2000/svg\" height=\"24px\"viewBox=\"0 0 24 24\"\n",
              "       width=\"24px\">\n",
              "    <path d=\"M0 0h24v24H0V0z\" fill=\"none\"/>\n",
              "    <path d=\"M18.56 5.44l.94 2.06.94-2.06 2.06-.94-2.06-.94-.94-2.06-.94 2.06-2.06.94zm-11 1L8.5 8.5l.94-2.06 2.06-.94-2.06-.94L8.5 2.5l-.94 2.06-2.06.94zm10 10l.94 2.06.94-2.06 2.06-.94-2.06-.94-.94-2.06-.94 2.06-2.06.94z\"/><path d=\"M17.41 7.96l-1.37-1.37c-.4-.4-.92-.59-1.43-.59-.52 0-1.04.2-1.43.59L10.3 9.45l-7.72 7.72c-.78.78-.78 2.05 0 2.83L4 21.41c.39.39.9.59 1.41.59.51 0 1.02-.2 1.41-.59l7.78-7.78 2.81-2.81c.8-.78.8-2.07 0-2.86zM5.41 20L4 18.59l7.72-7.72 1.47 1.35L5.41 20z\"/>\n",
              "  </svg>\n",
              "      </button>\n",
              "      \n",
              "  <style>\n",
              "    .colab-df-container {\n",
              "      display:flex;\n",
              "      flex-wrap:wrap;\n",
              "      gap: 12px;\n",
              "    }\n",
              "\n",
              "    .colab-df-convert {\n",
              "      background-color: #E8F0FE;\n",
              "      border: none;\n",
              "      border-radius: 50%;\n",
              "      cursor: pointer;\n",
              "      display: none;\n",
              "      fill: #1967D2;\n",
              "      height: 32px;\n",
              "      padding: 0 0 0 0;\n",
              "      width: 32px;\n",
              "    }\n",
              "\n",
              "    .colab-df-convert:hover {\n",
              "      background-color: #E2EBFA;\n",
              "      box-shadow: 0px 1px 2px rgba(60, 64, 67, 0.3), 0px 1px 3px 1px rgba(60, 64, 67, 0.15);\n",
              "      fill: #174EA6;\n",
              "    }\n",
              "\n",
              "    [theme=dark] .colab-df-convert {\n",
              "      background-color: #3B4455;\n",
              "      fill: #D2E3FC;\n",
              "    }\n",
              "\n",
              "    [theme=dark] .colab-df-convert:hover {\n",
              "      background-color: #434B5C;\n",
              "      box-shadow: 0px 1px 3px 1px rgba(0, 0, 0, 0.15);\n",
              "      filter: drop-shadow(0px 1px 2px rgba(0, 0, 0, 0.3));\n",
              "      fill: #FFFFFF;\n",
              "    }\n",
              "  </style>\n",
              "\n",
              "      <script>\n",
              "        const buttonEl =\n",
              "          document.querySelector('#df-89508a17-fff1-480f-a32e-fee3ea83ee0d button.colab-df-convert');\n",
              "        buttonEl.style.display =\n",
              "          google.colab.kernel.accessAllowed ? 'block' : 'none';\n",
              "\n",
              "        async function convertToInteractive(key) {\n",
              "          const element = document.querySelector('#df-89508a17-fff1-480f-a32e-fee3ea83ee0d');\n",
              "          const dataTable =\n",
              "            await google.colab.kernel.invokeFunction('convertToInteractive',\n",
              "                                                     [key], {});\n",
              "          if (!dataTable) return;\n",
              "\n",
              "          const docLinkHtml = 'Like what you see? Visit the ' +\n",
              "            '<a target=\"_blank\" href=https://colab.research.google.com/notebooks/data_table.ipynb>data table notebook</a>'\n",
              "            + ' to learn more about interactive tables.';\n",
              "          element.innerHTML = '';\n",
              "          dataTable['output_type'] = 'display_data';\n",
              "          await google.colab.output.renderOutput(dataTable, element);\n",
              "          const docLink = document.createElement('div');\n",
              "          docLink.innerHTML = docLinkHtml;\n",
              "          element.appendChild(docLink);\n",
              "        }\n",
              "      </script>\n",
              "    </div>\n",
              "  </div>\n",
              "  "
            ],
            "text/plain": [
              "            date     open    close    volume\n",
              "Name                                        \n",
              "AAL   2018-02-01   $54.00   $53.88   3623078\n",
              "AAPL  2018-02-01  $167.16  $167.78  47230787\n",
              "AAP   2018-02-01  $116.24  $117.29    760629\n",
              "ABBV  2018-02-01  $112.24  $116.34   9943452\n",
              "ABC   2018-02-01   $97.74   $99.29   2786798"
            ]
          },
          "metadata": {},
          "execution_count": 2
        }
      ]
    },
    {
      "cell_type": "markdown",
      "source": [
        "The unit of observation is a company's stock, where the most natural variable to use as the index is the stock name since it is unique."
      ],
      "metadata": {
        "id": "-2KajfoOk_f4"
      }
    },
    {
      "cell_type": "code",
      "source": [
        "from google.colab import drive\n",
        "drive.mount('/content/drive')"
      ],
      "metadata": {
        "id": "dX8-eplAKotW"
      },
      "execution_count": null,
      "outputs": []
    },
    {
      "cell_type": "markdown",
      "metadata": {
        "id": "jXLVHxjIkVNR"
      },
      "source": [
        "## Question 2\n",
        "\n",
        "We will start by looking at the `volume` column. This variable tells us how many shares were traded on that date.\n",
        "\n",
        "Extract the first digit of every value in this column. (_Hint:_ First, turn the numbers into strings. Then, use the [text processing functionalities](https://pandas.pydata.org/pandas-docs/stable/text.html) of `pandas` to extract the first character of each string.) Make an appropriate visualization to display the distribution of the first digits. (_Hint:_ Think carefully about whether the variable you are plotting is quantitative or categorical.)\n",
        "\n",
        "How does this compare with what you predicted in Question 0?"
      ]
    },
    {
      "cell_type": "code",
      "metadata": {
        "id": "gCnuPUejkVNS",
        "colab": {
          "base_uri": "https://localhost:8080/",
          "height": 280
        },
        "outputId": "6e264ffb-0c42-4555-d5a9-3d54e4abddc6"
      },
      "source": [
        "df_sp[\"volume\"].astype(\"string\").str[0].value_counts(normalize=True).plot.bar()\n"
      ],
      "execution_count": 3,
      "outputs": [
        {
          "output_type": "execute_result",
          "data": {
            "text/plain": [
              "<matplotlib.axes._subplots.AxesSubplot at 0x7fed64ac7fd0>"
            ]
          },
          "metadata": {},
          "execution_count": 3
        },
        {
          "output_type": "display_data",
          "data": {
            "image/png": "[encoded data removed]",
            "text/plain": [
              "<Figure size 432x288 with 1 Axes>"
            ]
          },
          "metadata": {
            "needs_background": "light"
          }
        }
      ]
    },
    {
      "cell_type": "markdown",
      "metadata": {
        "id": "YiTi4orlkVNU"
      },
      "source": [
        "My predicition is very off, 1 shows up a lot more than any other digit at 32%  and there is a decreasing proportion as the first number increases."
      ]
    },
    {
      "cell_type": "markdown",
      "metadata": {
        "id": "gX4YumLtkVNV"
      },
      "source": [
        "## Question 3\n",
        "\n",
        "Now, repeat Question 2, but for the distribution of _last_ digits. Again, make an appropriate visualization and compare with your prediction in Question 0."
      ]
    },
    {
      "cell_type": "code",
      "metadata": {
        "id": "PdKf6S7DkVNX",
        "colab": {
          "base_uri": "https://localhost:8080/",
          "height": 280
        },
        "outputId": "05c7703c-cbf7-4b26-a0a3-6d4b9cf5cf8e"
      },
      "source": [
        "df_sp[\"lastdig\"] = df_sp[\"volume\"].astype(\"str\").str[-1]\n",
        "df_sp[\"lastdig\"].value_counts(normalize=True).sort_index().plot.bar()"
      ],
      "execution_count": 8,
      "outputs": [
        {
          "output_type": "execute_result",
          "data": {
            "text/plain": [
              "<matplotlib.axes._subplots.AxesSubplot at 0x7fed639d6a90>"
            ]
          },
          "metadata": {},
          "execution_count": 8
        },
        {
          "output_type": "display_data",
          "data": {
            "image/png": "[encoded data removed]",
            "text/plain": [
              "<Figure size 432x288 with 1 Axes>"
            ]
          },
          "metadata": {
            "needs_background": "light"
          }
        }
      ]
    },
    {
      "cell_type": "markdown",
      "metadata": {
        "id": "JPsZCTnAkVNZ"
      },
      "source": [
        "I prdicted that the probability of 1 and 9 showing up in the last number is 11% which seems kinds of close looking at this graph since 1 seems to be 10.50% and 9 is also 10.50&. Interesting enough there seems to be no pattern with the probabilities for last numbers. 2 and 8 are the last numbers that show up most and and 4 shows up the least."
      ]
    },
    {
      "cell_type": "markdown",
      "metadata": {
        "id": "v3GOfL93kVNa"
      },
      "source": [
        "## Question 4\n",
        "\n",
        "Maybe the `volume` column was just a fluke. Let's see if the first digit distribution holds up when we look at a very different variable: the closing price of the stock. Make a visualization of the first digit distribution of the closing price (the `close` column of the `DataFrame`). Comment on what you see.\n",
        "\n",
        "(_Hint:_ What type did `pandas` infer this variable as and why? You will have to first clean the values using the [text processing functionalities](https://pandas.pydata.org/pandas-docs/stable/text.html) of `pandas` and then convert this variable to a quantitative variable.)"
      ]
    },
    {
      "cell_type": "code",
      "metadata": {
        "id": "0EAC_EY3kVNb",
        "colab": {
          "base_uri": "https://localhost:8080/",
          "height": 354
        },
        "outputId": "ff8a30d2-c702-490d-fb51-0b5eba4e1d29"
      },
      "source": [
        "df_sp[\"close\"].astype(\"string\").str[1].value_counts(normalize=True).plot.bar()\n",
        "\n",
        "df_sp[\"close\"].describe()\n"
      ],
      "execution_count": 9,
      "outputs": [
        {
          "output_type": "execute_result",
          "data": {
            "text/plain": [
              "count        505\n",
              "unique       498\n",
              "top       $80.62\n",
              "freq           2\n",
              "Name: close, dtype: object"
            ]
          },
          "metadata": {},
          "execution_count": 9
        },
        {
          "output_type": "display_data",
          "data": {
            "image/png": "[encoded data removed]",
            "text/plain": [
              "<Figure size 432x288 with 1 Axes>"
            ]
          },
          "metadata": {
            "needs_background": "light"
          }
        }
      ]
    },
    {
      "cell_type": "markdown",
      "source": [
        "Pandas predicted this variable as an object because of the dollar sign at the beginning. This sign isn't a number, and is therefore interpreted as an object, making the rest of the value an object as well. As for the distribution of digits 1-9 as a first digit in the close column, the number one appears about the same amount as it did in the volume column, only differing by about 1%."
      ],
      "metadata": {
        "id": "boNsANSnn8SS"
      }
    }
  ]
}